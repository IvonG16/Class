{
 "cells": [
  {
   "cell_type": "code",
   "execution_count": 1,
   "id": "2f7ca44e",
   "metadata": {},
   "outputs": [
    {
     "name": "stdout",
     "output_type": "stream",
     "text": [
      "Hello, World!\n"
     ]
    }
   ],
   "source": [
    "print(\"Hello, World!\")"
   ]
  },
  {
   "cell_type": "code",
   "execution_count": 2,
   "id": "d3c5b32c",
   "metadata": {},
   "outputs": [
    {
     "name": "stdout",
     "output_type": "stream",
     "text": [
      "Bienvenidos a la Practica de Python\n"
     ]
    }
   ],
   "source": [
    "print(\"Bienvenidos a la Practica de Python\")"
   ]
  },
  {
   "cell_type": "markdown",
   "id": "e2005aad",
   "metadata": {},
   "source": [
    "Markdown sirve para escribir textos"
   ]
  },
  {
   "cell_type": "code",
   "execution_count": null,
   "id": "ccf123c5",
   "metadata": {},
   "outputs": [],
   "source": [
    "nombre = \"Juan\"\n",
    "edad = 25\n",
    "altura = 1.80\n",
    "es_estudiante = True"
   ]
  },
  {
   "cell_type": "code",
   "execution_count": 5,
   "id": "eb5a5a0b",
   "metadata": {},
   "outputs": [
    {
     "name": "stdout",
     "output_type": "stream",
     "text": [
      "25\n"
     ]
    }
   ],
   "source": [
    "print(edad)"
   ]
  },
  {
   "cell_type": "code",
   "execution_count": 6,
   "id": "9235405b",
   "metadata": {},
   "outputs": [
    {
     "name": "stdout",
     "output_type": "stream",
     "text": [
      "Número original: 10\n",
      "Número nuevo: 60\n"
     ]
    }
   ],
   "source": [
    "mi_numero = 10\n",
    "print(f\"Número original: {mi_numero}\")\n",
    "\n",
    "mi_numero = 60\n",
    "print(f\"Número nuevo: {mi_numero}\")"
   ]
  },
  {
   "cell_type": "code",
   "execution_count": 8,
   "id": "2dc06d90",
   "metadata": {},
   "outputs": [
    {
     "name": "stdout",
     "output_type": "stream",
     "text": [
      "el usuario se llama Juan, posee 25 años de edad, mide 1.8\n"
     ]
    }
   ],
   "source": [
    "print(f\"el usuario se llama {nombre}, posee {edad} años de edad, mide {altura}\")"
   ]
  },
  {
   "cell_type": "code",
   "execution_count": 9,
   "id": "cc819e80",
   "metadata": {},
   "outputs": [],
   "source": [
    "bool_var1 = True\n",
    "bool_var2 = False"
   ]
  },
  {
   "cell_type": "code",
   "execution_count": 11,
   "id": "197912d6",
   "metadata": {},
   "outputs": [
    {
     "data": {
      "text/plain": [
       "False"
      ]
     },
     "execution_count": 11,
     "metadata": {},
     "output_type": "execute_result"
    }
   ],
   "source": [
    "bool_var2"
   ]
  },
  {
   "cell_type": "code",
   "execution_count": 13,
   "id": "ee8fe427",
   "metadata": {},
   "outputs": [
    {
     "data": {
      "text/plain": [
       "False"
      ]
     },
     "execution_count": 13,
     "metadata": {},
     "output_type": "execute_result"
    }
   ],
   "source": [
    "bool_var1\n",
    "bool_var2 "
   ]
  },
  {
   "cell_type": "code",
   "execution_count": 14,
   "id": "55a9d401",
   "metadata": {},
   "outputs": [
    {
     "name": "stdout",
     "output_type": "stream",
     "text": [
      "True\n",
      "False\n"
     ]
    }
   ],
   "source": [
    "print(bool_var1)\n",
    "print(bool_var2)"
   ]
  },
  {
   "cell_type": "code",
   "execution_count": 15,
   "id": "e1818046",
   "metadata": {},
   "outputs": [],
   "source": [
    "list_numbers = [1, 2, 3, 4, 5]\n",
    "list_strings = [\"A\", \"B\", \"C\", \"D\"]"
   ]
  },
  {
   "cell_type": "code",
   "execution_count": 16,
   "id": "ca91fbfe",
   "metadata": {},
   "outputs": [
    {
     "data": {
      "text/plain": [
       "['A', 'B', 'C', 'D']"
      ]
     },
     "execution_count": 16,
     "metadata": {},
     "output_type": "execute_result"
    }
   ],
   "source": [
    "list_strings"
   ]
  },
  {
   "cell_type": "code",
   "execution_count": 18,
   "id": "f990df13",
   "metadata": {},
   "outputs": [
    {
     "data": {
      "text/plain": [
       "'A'"
      ]
     },
     "execution_count": 18,
     "metadata": {},
     "output_type": "execute_result"
    }
   ],
   "source": [
    "list_strings [0]"
   ]
  },
  {
   "cell_type": "code",
   "execution_count": 2,
   "id": "6c947f9d",
   "metadata": {},
   "outputs": [
    {
     "name": "stdout",
     "output_type": "stream",
     "text": [
      "el resultado de z\n"
     ]
    }
   ],
   "source": [
    "x = 5\n",
    "y = 3\n",
    "z = x + y  # Salida: z = 8\n",
    "print\n",
    "z = x * y  # Salida: z = 15\n",
    "print(f\"el resultado de z\")"
   ]
  },
  {
   "cell_type": "markdown",
   "id": "fb76f4ac",
   "metadata": {},
   "source": [
    "Operadores Logicos"
   ]
  },
  {
   "cell_type": "code",
   "execution_count": 4,
   "id": "ee975531",
   "metadata": {},
   "outputs": [
    {
     "data": {
      "text/plain": [
       "True"
      ]
     },
     "execution_count": 4,
     "metadata": {},
     "output_type": "execute_result"
    }
   ],
   "source": [
    "True or False"
   ]
  },
  {
   "cell_type": "code",
   "execution_count": 5,
   "id": "2b228e73",
   "metadata": {},
   "outputs": [
    {
     "data": {
      "text/plain": [
       "True"
      ]
     },
     "execution_count": 5,
     "metadata": {},
     "output_type": "execute_result"
    }
   ],
   "source": [
    "not False"
   ]
  },
  {
   "cell_type": "code",
   "execution_count": 6,
   "id": "c18132d2",
   "metadata": {},
   "outputs": [],
   "source": [
    "\n",
    "resultado = True and False  # resultado = False\n",
    "resultado = True or False   # resultado = True\n",
    "resultado = not True        # resultado = False"
   ]
  },
  {
   "cell_type": "markdown",
   "id": "e9cb38fa",
   "metadata": {},
   "source": [
    "Estructura de decisión\n",
    "si\n",
    "    if \"REGLA\":\n",
    "        se coloca la instrucción/ operación que hara la máquina\n",
    "    "
   ]
  },
  {
   "cell_type": "code",
   "execution_count": 12,
   "id": "f7cc4ce5",
   "metadata": {},
   "outputs": [],
   "source": [
    "edad = 12\n",
    "if edad >= 18:\n",
    "    print(\"Eres mayor de edad.\")"
   ]
  },
  {
   "cell_type": "code",
   "execution_count": 14,
   "id": "1e22d41f",
   "metadata": {},
   "outputs": [
    {
     "data": {
      "text/plain": [
       "False"
      ]
     },
     "execution_count": 14,
     "metadata": {},
     "output_type": "execute_result"
    }
   ],
   "source": [
    "edad >= 18"
   ]
  },
  {
   "cell_type": "markdown",
   "id": "5365b96e",
   "metadata": {},
   "source": [
    "Sino, complemento si\n",
    "\n",
    "si (condición):\n",
    "\n",
    "Lo que haga el programa \n",
    "\n",
    "en caso contrario\n",
    "\n",
    "lo que deba hacer"
   ]
  },
  {
   "cell_type": "code",
   "execution_count": 17,
   "id": "36587eb2",
   "metadata": {},
   "outputs": [
    {
     "name": "stdout",
     "output_type": "stream",
     "text": [
      "no es mayor de edad\n"
     ]
    }
   ],
   "source": [
    "edad = 16\n",
    "if edad >= 18:\n",
    "    print(\"Eres mayor de edad.\")\n",
    "else:\n",
    "    print(\"no es mayor de edad\")"
   ]
  },
  {
   "cell_type": "markdown",
   "id": "7ffbc57e",
   "metadata": {},
   "source": [
    "elif es una extensión del if"
   ]
  },
  {
   "cell_type": "code",
   "execution_count": 34,
   "id": "d0b20f73",
   "metadata": {},
   "outputs": [
    {
     "data": {
      "text/plain": [
       "[1, 2, 3, 4, 5, 6, 7, 8, 9, 10]"
      ]
     },
     "execution_count": 34,
     "metadata": {},
     "output_type": "execute_result"
    }
   ],
   "source": [
    "x = [1,2,3,4,5,6,7,8,9,10]\n",
    "x "
   ]
  },
  {
   "cell_type": "code",
   "execution_count": 19,
   "id": "25108fc5",
   "metadata": {},
   "outputs": [
    {
     "data": {
      "text/plain": [
       "10.0"
      ]
     },
     "execution_count": 19,
     "metadata": {},
     "output_type": "execute_result"
    }
   ],
   "source": [
    "20/2"
   ]
  },
  {
   "cell_type": "code",
   "execution_count": 20,
   "id": "5326e1cf",
   "metadata": {},
   "outputs": [
    {
     "data": {
      "text/plain": [
       "0"
      ]
     },
     "execution_count": 20,
     "metadata": {},
     "output_type": "execute_result"
    }
   ],
   "source": [
    "20%2"
   ]
  },
  {
   "cell_type": "code",
   "execution_count": 23,
   "id": "b1aefbb8",
   "metadata": {},
   "outputs": [
    {
     "name": "stdout",
     "output_type": "stream",
     "text": [
      "el numero es divisible por 3 y su resto 0\n"
     ]
    }
   ],
   "source": [
    "j = 5\n",
    "\n",
    "if x[j] % 3 == 0:\n",
    "    print(\"el numero es divisible por 3 y su resto 0\")\n",
    "elif x[j] % 3 == 1:\n",
    "    print(\"el numero no es divisible por 3 y su resto es 1\")\n",
    "else:\n",
    "    print(\"el numero no es divisible por 3 y su resto es 2\")"
   ]
  },
  {
   "cell_type": "markdown",
   "id": "98b1811d",
   "metadata": {},
   "source": [
    "Estructuras de Repetición"
   ]
  },
  {
   "cell_type": "code",
   "execution_count": 25,
   "id": "c3541a69",
   "metadata": {},
   "outputs": [
    {
     "name": "stdout",
     "output_type": "stream",
     "text": [
      "0\n",
      "1\n",
      "2\n",
      "3\n",
      "4\n"
     ]
    }
   ],
   "source": [
    "for i in range(5):\n",
    "    print(i)"
   ]
  },
  {
   "cell_type": "code",
   "execution_count": 30,
   "id": "16b126b6",
   "metadata": {},
   "outputs": [
    {
     "name": "stdout",
     "output_type": "stream",
     "text": [
      "manzana\n",
      "banana\n",
      "cereza\n"
     ]
    }
   ],
   "source": [
    "frutas = [\"manzana\", \"banana\", \"cereza\"]\n",
    "for fruta in frutas:\n",
    "    print(fruta)\n",
    "\n",
    "# Muestra en consola: manzana, banana, cereza"
   ]
  },
  {
   "cell_type": "code",
   "execution_count": 35,
   "id": "2fc470b2",
   "metadata": {},
   "outputs": [
    {
     "data": {
      "text/plain": [
       "[1, 2, 3, 4, 5, 6, 7, 8, 9, 10]"
      ]
     },
     "execution_count": 35,
     "metadata": {},
     "output_type": "execute_result"
    }
   ],
   "source": [
    "x"
   ]
  },
  {
   "cell_type": "code",
   "execution_count": 42,
   "id": "b51543aa",
   "metadata": {},
   "outputs": [
    {
     "name": "stdout",
     "output_type": "stream",
     "text": [
      "el numero 1 no es divisible por 3 y su resto es 1\n",
      "el numero 2 no es divisible por 3 y su resto es 2\n",
      "el numero 3 es divisible por 3 y su resto 0\n",
      "el numero 4 no es divisible por 3 y su resto es 1\n",
      "el numero 5 no es divisible por 3 y su resto es 2\n",
      "el numero 6 es divisible por 3 y su resto 0\n",
      "el numero 7 no es divisible por 3 y su resto es 1\n",
      "el numero 8 no es divisible por 3 y su resto es 2\n",
      "el numero 9 es divisible por 3 y su resto 0\n",
      "el numero 10 no es divisible por 3 y su resto es 1\n"
     ]
    }
   ],
   "source": [
    "for j in x:\n",
    "    if j % 3 == 0:\n",
    "        print(f\"el numero {j} es divisible por 3 y su resto 0\")\n",
    "    elif j % 3 == 1:\n",
    "        print(f\"el numero {j} no es divisible por 3 y su resto es 1\")\n",
    "    else:\n",
    "        print(f\"el numero {j} no es divisible por 3 y su resto es 2\")"
   ]
  }
 ],
 "metadata": {
  "kernelspec": {
   "display_name": "Python 3",
   "language": "python",
   "name": "python3"
  },
  "language_info": {
   "codemirror_mode": {
    "name": "ipython",
    "version": 3
   },
   "file_extension": ".py",
   "mimetype": "text/x-python",
   "name": "python",
   "nbconvert_exporter": "python",
   "pygments_lexer": "ipython3",
   "version": "3.12.1"
  }
 },
 "nbformat": 4,
 "nbformat_minor": 5
}
