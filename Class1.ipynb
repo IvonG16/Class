{
 "cells": [
  {
   "cell_type": "code",
   "execution_count": 1,
   "id": "2f7ca44e",
   "metadata": {},
   "outputs": [
    {
     "name": "stdout",
     "output_type": "stream",
     "text": [
      "Hello, World!\n"
     ]
    }
   ],
   "source": [
    "print(\"Hello, World!\")"
   ]
  },
  {
   "cell_type": "code",
   "execution_count": 2,
   "id": "d3c5b32c",
   "metadata": {},
   "outputs": [
    {
     "name": "stdout",
     "output_type": "stream",
     "text": [
      "Bienvenidos a la Practica de Python\n"
     ]
    }
   ],
   "source": [
    "print(\"Bienvenidos a la Practica de Python\")"
   ]
  },
  {
   "cell_type": "markdown",
   "id": "e2005aad",
   "metadata": {},
   "source": [
    "Markdown sirve para escribir textos"
   ]
  },
  {
   "cell_type": "code",
   "execution_count": null,
   "id": "ccf123c5",
   "metadata": {},
   "outputs": [],
   "source": [
    "nombre = \"Juan\"\n",
    "edad = 25\n",
    "altura = 1.80\n",
    "es_estudiante = True"
   ]
  },
  {
   "cell_type": "code",
   "execution_count": 5,
   "id": "eb5a5a0b",
   "metadata": {},
   "outputs": [
    {
     "name": "stdout",
     "output_type": "stream",
     "text": [
      "25\n"
     ]
    }
   ],
   "source": [
    "print(edad)"
   ]
  },
  {
   "cell_type": "code",
   "execution_count": 6,
   "id": "9235405b",
   "metadata": {},
   "outputs": [
    {
     "name": "stdout",
     "output_type": "stream",
     "text": [
      "Número original: 10\n",
      "Número nuevo: 60\n"
     ]
    }
   ],
   "source": [
    "mi_numero = 10\n",
    "print(f\"Número original: {mi_numero}\")\n",
    "\n",
    "mi_numero = 60\n",
    "print(f\"Número nuevo: {mi_numero}\")"
   ]
  },
  {
   "cell_type": "code",
   "execution_count": 8,
   "id": "2dc06d90",
   "metadata": {},
   "outputs": [
    {
     "name": "stdout",
     "output_type": "stream",
     "text": [
      "el usuario se llama Juan, posee 25 años de edad, mide 1.8\n"
     ]
    }
   ],
   "source": [
    "print(f\"el usuario se llama {nombre}, posee {edad} años de edad, mide {altura}\")"
   ]
  },
  {
   "cell_type": "code",
   "execution_count": 9,
   "id": "cc819e80",
   "metadata": {},
   "outputs": [],
   "source": [
    "bool_var1 = True\n",
    "bool_var2 = False"
   ]
  },
  {
   "cell_type": "code",
   "execution_count": 11,
   "id": "197912d6",
   "metadata": {},
   "outputs": [
    {
     "data": {
      "text/plain": [
       "False"
      ]
     },
     "execution_count": 11,
     "metadata": {},
     "output_type": "execute_result"
    }
   ],
   "source": [
    "bool_var2"
   ]
  },
  {
   "cell_type": "code",
   "execution_count": 13,
   "id": "ee8fe427",
   "metadata": {},
   "outputs": [
    {
     "data": {
      "text/plain": [
       "False"
      ]
     },
     "execution_count": 13,
     "metadata": {},
     "output_type": "execute_result"
    }
   ],
   "source": [
    "bool_var1\n",
    "bool_var2 "
   ]
  },
  {
   "cell_type": "code",
   "execution_count": 14,
   "id": "55a9d401",
   "metadata": {},
   "outputs": [
    {
     "name": "stdout",
     "output_type": "stream",
     "text": [
      "True\n",
      "False\n"
     ]
    }
   ],
   "source": [
    "print(bool_var1)\n",
    "print(bool_var2)"
   ]
  },
  {
   "cell_type": "code",
   "execution_count": 15,
   "id": "e1818046",
   "metadata": {},
   "outputs": [],
   "source": [
    "list_numbers = [1, 2, 3, 4, 5]\n",
    "list_strings = [\"A\", \"B\", \"C\", \"D\"]"
   ]
  },
  {
   "cell_type": "code",
   "execution_count": 16,
   "id": "ca91fbfe",
   "metadata": {},
   "outputs": [
    {
     "data": {
      "text/plain": [
       "['A', 'B', 'C', 'D']"
      ]
     },
     "execution_count": 16,
     "metadata": {},
     "output_type": "execute_result"
    }
   ],
   "source": [
    "list_strings"
   ]
  },
  {
   "cell_type": "code",
   "execution_count": 18,
   "id": "f990df13",
   "metadata": {},
   "outputs": [
    {
     "data": {
      "text/plain": [
       "'A'"
      ]
     },
     "execution_count": 18,
     "metadata": {},
     "output_type": "execute_result"
    }
   ],
   "source": [
    "list_strings [0]"
   ]
  }
 ],
 "metadata": {
  "kernelspec": {
   "display_name": "Python 3",
   "language": "python",
   "name": "python3"
  },
  "language_info": {
   "codemirror_mode": {
    "name": "ipython",
    "version": 3
   },
   "file_extension": ".py",
   "mimetype": "text/x-python",
   "name": "python",
   "nbconvert_exporter": "python",
   "pygments_lexer": "ipython3",
   "version": "3.12.1"
  }
 },
 "nbformat": 4,
 "nbformat_minor": 5
}
